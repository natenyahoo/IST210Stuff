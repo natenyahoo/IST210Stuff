{
  "nbformat": 4,
  "nbformat_minor": 0,
  "metadata": {
    "colab": {
      "name": "IST210_Lab1_NathanTack.ipynb",
      "provenance": [],
      "collapsed_sections": [
        "nJ-Pc3ntfycS"
      ],
      "authorship_tag": "ABX9TyNjZCc3GoybKI2uhdjqGKek",
      "include_colab_link": true
    },
    "kernelspec": {
      "name": "python3",
      "display_name": "Python 3"
    }
  },
  "cells": [
    {
      "cell_type": "markdown",
      "metadata": {
        "id": "view-in-github",
        "colab_type": "text"
      },
      "source": [
        "<a href=\"https://colab.research.google.com/github/natenyahoo/IST210Stuff/blob/master/IST210_Lab1_NathanTack.ipynb\" target=\"_parent\"><img src=\"https://colab.research.google.com/assets/colab-badge.svg\" alt=\"Open In Colab\"/></a>"
      ]
    },
    {
      "cell_type": "markdown",
      "metadata": {
        "id": "nJ-Pc3ntfycS",
        "colab_type": "text"
      },
      "source": [
        "# Do you like using Jupyter Notebooks?"
      ]
    },
    {
      "cell_type": "markdown",
      "metadata": {
        "id": "HqW0o9sVgPoP",
        "colab_type": "text"
      },
      "source": [
        "Yes! Jupyter notebooks are super helpful for doing math. I particularly like how I can run a single cell and get an instant output without having to run an entire file, like in some other programming languages."
      ]
    },
    {
      "cell_type": "markdown",
      "metadata": {
        "id": "fMDhgAMjh-1d",
        "colab_type": "text"
      },
      "source": [
        "# What do you want to learn more about in Jupyter Notebooks?"
      ]
    },
    {
      "cell_type": "markdown",
      "metadata": {
        "id": "SpCNyTyniP-B",
        "colab_type": "text"
      },
      "source": [
        "It'd be super cool to learn Julia in Jupyter. Previously, I thought Jupyter Notebooks were only for Python!"
      ]
    },
    {
      "cell_type": "markdown",
      "metadata": {
        "id": "K1fQRSD7kSEB",
        "colab_type": "text"
      },
      "source": [
        "# Image"
      ]
    },
    {
      "cell_type": "markdown",
      "metadata": {
        "id": "DsvgZPuoi3LN",
        "colab_type": "text"
      },
      "source": [
        "![High School Art Assignment - Copy of Book Cover](https://raw.githubusercontent.com/natenyahoo/IST210Stuff/master/Images/D_D%20Book%20Cover%20-%20In%20Progress.jpg)"
      ]
    }
  ]
}