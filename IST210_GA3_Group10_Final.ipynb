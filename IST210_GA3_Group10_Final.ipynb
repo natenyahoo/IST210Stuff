{
  "nbformat": 4,
  "nbformat_minor": 0,
  "metadata": {
    "colab": {
      "name": "IST210-GA3-Group10",
      "provenance": [],
      "collapsed_sections": [],
      "include_colab_link": true
    },
    "kernelspec": {
      "name": "python3",
      "display_name": "Python 3"
    }
  },
  "cells": [
    {
      "cell_type": "markdown",
      "metadata": {
        "id": "view-in-github",
        "colab_type": "text"
      },
      "source": [
        "<a href=\"https://colab.research.google.com/github/natenyahoo/IST210Stuff/blob/master/IST210_GA3_Group10_Final.ipynb\" target=\"_parent\"><img src=\"https://colab.research.google.com/assets/colab-badge.svg\" alt=\"Open In Colab\"/></a>"
      ]
    },
    {
      "cell_type": "markdown",
      "metadata": {
        "id": "K-rx7oqoNr8i"
      },
      "source": [
        "#IST 210 - Group Assignment 3 - Group 10"
      ]
    },
    {
      "cell_type": "markdown",
      "metadata": {
        "id": "XehSGFIMN2q_"
      },
      "source": [
        "Here is our ER Diagram from GA 2: ![ER Diagram in 1st NF](https://raw.githubusercontent.com/natenyahoo/IST210Stuff/master/Assignments/IST%20210%20-%20GA%202-2.png)"
      ]
    },
    {
      "cell_type": "code",
      "metadata": {
        "id": "BTS0jOGNNJCz",
        "colab": {
          "base_uri": "https://localhost:8080/"
        },
        "outputId": "6bae2def-daba-4551-ca2b-33a9aa12601e"
      },
      "source": [
        "%load_ext sql"
      ],
      "execution_count": null,
      "outputs": [
        {
          "output_type": "stream",
          "text": [
            "The sql extension is already loaded. To reload it, use:\n",
            "  %reload_ext sql\n"
          ],
          "name": "stdout"
        }
      ]
    },
    {
      "cell_type": "code",
      "metadata": {
        "id": "4_3kkM81Pbk6",
        "colab": {
          "base_uri": "https://localhost:8080/",
          "height": 35
        },
        "outputId": "49132604-d951-4d4c-c481-b6c6041ac0c8"
      },
      "source": [
        "%sql sqlite:///IncidentDatabase.db"
      ],
      "execution_count": null,
      "outputs": [
        {
          "output_type": "execute_result",
          "data": {
            "application/vnd.google.colaboratory.intrinsic+json": {
              "type": "string"
            },
            "text/plain": [
              "'Connected: @IncidentDatabase.db'"
            ]
          },
          "metadata": {
            "tags": []
          },
          "execution_count": 31
        }
      ]
    },
    {
      "cell_type": "code",
      "metadata": {
        "id": "zeOo7Jh0TFmI",
        "colab": {
          "base_uri": "https://localhost:8080/"
        },
        "outputId": "5b5865fd-b704-4a02-e5c3-0bfe8d5e63a4"
      },
      "source": [
        "%%sql\n",
        "DROP TABLE IF EXISTS Users;\n",
        "create table Users (UserID text PRIMARY KEY, email text, firstName text, lastName text);\n",
        "\n",
        "DROP table IF EXISTS ViewBreach;\n",
        "create table ViewBreach (UserID text NOT NULL, IncidentID text NOT NULL, PRIMARY KEY (UserID, IncidentID));\n",
        "\n",
        "DROP table IF EXISTS Breaches;\n",
        "create table Breaches (IncidentID text PRIMARY KEY, result text, date text, attackType text)"
      ],
      "execution_count": null,
      "outputs": [
        {
          "output_type": "stream",
          "text": [
            " * sqlite:///IncidentDatabase.db\n",
            "Done.\n",
            "Done.\n",
            "Done.\n",
            "Done.\n",
            "Done.\n",
            "Done.\n"
          ],
          "name": "stdout"
        },
        {
          "output_type": "execute_result",
          "data": {
            "text/plain": [
              "[]"
            ]
          },
          "metadata": {
            "tags": []
          },
          "execution_count": 32
        }
      ]
    },
    {
      "cell_type": "code",
      "metadata": {
        "id": "JqnPb6mtNdjd",
        "colab": {
          "base_uri": "https://localhost:8080/"
        },
        "outputId": "7d43ea5b-80d0-472c-ab4b-e752d6251d97"
      },
      "source": [
        "## dates are in dd-mm-yyyy format\n",
        "\n",
        "%%sql\n",
        "insert into Users values ('100', 'johndoe@mail.com', \"John\", 'Doe');\n",
        "insert into Users values ('101', 'sarahdoe@mail.com', \"Sarah\", 'Doe');\n",
        "insert into Users values ('102', 'davidhunter@fake.com', \"David\", 'Hunter');\n",
        "insert into Users values ('103', 'ethanmury@what.net', \"Ethan\", 'Mury');\n",
        "insert into Users values ('104', 'candylover@hershey.org', \"Kendall\", 'Smith');\n",
        "insert into Users values ('105', 'jamesAtWar@sierra.com', \"James\", 'Grant');\n",
        "insert into Users values ('106', 'mydog@arf.com', \"Brenna\", 'Jenkins');\n",
        "\n",
        "insert into Breaches values (\"00\", \"Repelled\", \"20-02-2002\", \"Ransomware\");\n",
        "insert into Breaches values (\"01\", \"Breached\", \"20-06-2002\", \"Insider_Threat\");\n",
        "insert into Breaches values (\"02\", \"Repelled\", \"14-09-2002\", \"Trojan_Horse\");\n",
        "insert into Breaches values (\"03\", \"Repelled\", \"04-12-2002\", \"Electromagnetic_Pulse\");\n",
        "insert into Breaches values (\"04\", \"Repelled\", \"25-12-2002\", \"SQL_Injection\");\n",
        "insert into Breaches values (\"05\", \"Breached\", \"04-03-2003\", \"SQL_Injection\");\n",
        "insert into Breaches values (\"06\", \"Breached\", \"04-12-2003\", \"SQL_Injection\");\n",
        "insert into Breaches values (\"07\", \"Repelled\", \"04-28-2003\", \"Ransomware\");\n",
        "\n",
        "insert into ViewBreach values (\"100\", \"03\");\n",
        "insert into ViewBreach values (\"101\", \"03\");\n",
        "insert into ViewBreach values (\"102\", \"03\");\n",
        "insert into ViewBreach values (\"103\", \"03\");\n",
        "insert into ViewBreach values (\"104\", \"03\");\n",
        "insert into ViewBreach values (\"105\", \"03\");\n",
        "insert into ViewBreach values (\"106\", \"03\");\n",
        "insert into ViewBreach values (\"100\", \"04\");\n",
        "insert into ViewBreach values (\"100\", \"00\");\n",
        "insert into ViewBreach values (\"101\", \"02\");"
      ],
      "execution_count": null,
      "outputs": [
        {
          "output_type": "stream",
          "text": [
            " * sqlite:///IncidentDatabase.db\n",
            "1 rows affected.\n",
            "1 rows affected.\n",
            "1 rows affected.\n",
            "1 rows affected.\n",
            "1 rows affected.\n",
            "1 rows affected.\n",
            "1 rows affected.\n",
            "1 rows affected.\n",
            "1 rows affected.\n",
            "1 rows affected.\n",
            "1 rows affected.\n",
            "1 rows affected.\n",
            "1 rows affected.\n",
            "1 rows affected.\n",
            "1 rows affected.\n",
            "1 rows affected.\n",
            "1 rows affected.\n",
            "1 rows affected.\n",
            "1 rows affected.\n",
            "1 rows affected.\n",
            "1 rows affected.\n",
            "1 rows affected.\n",
            "1 rows affected.\n",
            "1 rows affected.\n",
            "1 rows affected.\n"
          ],
          "name": "stdout"
        },
        {
          "output_type": "execute_result",
          "data": {
            "text/plain": [
              "[]"
            ]
          },
          "metadata": {
            "tags": []
          },
          "execution_count": 33
        }
      ]
    },
    {
      "cell_type": "markdown",
      "metadata": {
        "id": "T-b3DnL9AOiI"
      },
      "source": [
        "#Questions:\n",
        "\n",
        "1) What is the most viewed data breach?\n",
        "\n",
        "2) Who is viewing the most data breaches?\n",
        "\n",
        "3) How many of each type of breach are there?"
      ]
    },
    {
      "cell_type": "markdown",
      "metadata": {
        "id": "4QaKPFhdA3eR"
      },
      "source": [
        "#SQL Queries:"
      ]
    },
    {
      "cell_type": "code",
      "metadata": {
        "id": "o6iNToQwA7VZ",
        "colab": {
          "base_uri": "https://localhost:8080/",
          "height": 154
        },
        "outputId": "e0811c85-4948-4db5-9843-fcf41ec051b8"
      },
      "source": [
        "## Query #1\n",
        "%%sql\n",
        "SELECT incidentID, count(IncidentID) AS views FROM ViewBreach GROUP BY IncidentID ORDER BY count(IncidentID) DESC"
      ],
      "execution_count": null,
      "outputs": [
        {
          "output_type": "stream",
          "text": [
            " * sqlite:///IncidentDatabase.db\n",
            "Done.\n"
          ],
          "name": "stdout"
        },
        {
          "output_type": "execute_result",
          "data": {
            "text/html": [
              "<table>\n",
              "    <tr>\n",
              "        <th>IncidentID</th>\n",
              "        <th>views</th>\n",
              "    </tr>\n",
              "    <tr>\n",
              "        <td>03</td>\n",
              "        <td>7</td>\n",
              "    </tr>\n",
              "    <tr>\n",
              "        <td>00</td>\n",
              "        <td>1</td>\n",
              "    </tr>\n",
              "    <tr>\n",
              "        <td>02</td>\n",
              "        <td>1</td>\n",
              "    </tr>\n",
              "    <tr>\n",
              "        <td>04</td>\n",
              "        <td>1</td>\n",
              "    </tr>\n",
              "</table>"
            ],
            "text/plain": [
              "[('03', 7), ('00', 1), ('02', 1), ('04', 1)]"
            ]
          },
          "metadata": {
            "tags": []
          },
          "execution_count": 34
        }
      ]
    },
    {
      "cell_type": "code",
      "metadata": {
        "colab": {
          "base_uri": "https://localhost:8080/",
          "height": 214
        },
        "id": "ohSOR0-DxBGC",
        "outputId": "5ccdc79a-aba2-43e3-a95e-8c11641c171e"
      },
      "source": [
        "## Query #2\n",
        "%%sql\n",
        "SELECT u.firstName, u.lastName, v.UserID, count(v.IncidentID) AS BreachesViewed FROM Users AS u LEFT OUTER JOIN ViewBreach AS v ON u.UserID = v.UserID \n",
        "GROUP BY v.UserID ORDER BY BreachesViewed DESC"
      ],
      "execution_count": null,
      "outputs": [
        {
          "output_type": "stream",
          "text": [
            " * sqlite:///IncidentDatabase.db\n",
            "Done.\n"
          ],
          "name": "stdout"
        },
        {
          "output_type": "execute_result",
          "data": {
            "text/html": [
              "<table>\n",
              "    <tr>\n",
              "        <th>firstName</th>\n",
              "        <th>lastName</th>\n",
              "        <th>UserID</th>\n",
              "        <th>BreachesViewed</th>\n",
              "    </tr>\n",
              "    <tr>\n",
              "        <td>John</td>\n",
              "        <td>Doe</td>\n",
              "        <td>100</td>\n",
              "        <td>3</td>\n",
              "    </tr>\n",
              "    <tr>\n",
              "        <td>Sarah</td>\n",
              "        <td>Doe</td>\n",
              "        <td>101</td>\n",
              "        <td>2</td>\n",
              "    </tr>\n",
              "    <tr>\n",
              "        <td>David</td>\n",
              "        <td>Hunter</td>\n",
              "        <td>102</td>\n",
              "        <td>1</td>\n",
              "    </tr>\n",
              "    <tr>\n",
              "        <td>Ethan</td>\n",
              "        <td>Mury</td>\n",
              "        <td>103</td>\n",
              "        <td>1</td>\n",
              "    </tr>\n",
              "    <tr>\n",
              "        <td>Kendall</td>\n",
              "        <td>Smith</td>\n",
              "        <td>104</td>\n",
              "        <td>1</td>\n",
              "    </tr>\n",
              "    <tr>\n",
              "        <td>James</td>\n",
              "        <td>Grant</td>\n",
              "        <td>105</td>\n",
              "        <td>1</td>\n",
              "    </tr>\n",
              "    <tr>\n",
              "        <td>Brenna</td>\n",
              "        <td>Jenkins</td>\n",
              "        <td>106</td>\n",
              "        <td>1</td>\n",
              "    </tr>\n",
              "</table>"
            ],
            "text/plain": [
              "[('John', 'Doe', '100', 3),\n",
              " ('Sarah', 'Doe', '101', 2),\n",
              " ('David', 'Hunter', '102', 1),\n",
              " ('Ethan', 'Mury', '103', 1),\n",
              " ('Kendall', 'Smith', '104', 1),\n",
              " ('James', 'Grant', '105', 1),\n",
              " ('Brenna', 'Jenkins', '106', 1)]"
            ]
          },
          "metadata": {
            "tags": []
          },
          "execution_count": 35
        }
      ]
    },
    {
      "cell_type": "code",
      "metadata": {
        "id": "KMUnGu2JBEyy",
        "colab": {
          "base_uri": "https://localhost:8080/",
          "height": 174
        },
        "outputId": "ccbc2b93-e391-4c07-f908-fe6e0cd07c9e"
      },
      "source": [
        "## Query #3\n",
        "%%sql\n",
        "SELECT attackType, count(attackType) AS totalThreats FROM Breaches GROUP BY attackType ORDER BY count(attackType) DESC"
      ],
      "execution_count": null,
      "outputs": [
        {
          "output_type": "stream",
          "text": [
            " * sqlite:///IncidentDatabase.db\n",
            "Done.\n"
          ],
          "name": "stdout"
        },
        {
          "output_type": "execute_result",
          "data": {
            "text/html": [
              "<table>\n",
              "    <tr>\n",
              "        <th>attackType</th>\n",
              "        <th>totalThreats</th>\n",
              "    </tr>\n",
              "    <tr>\n",
              "        <td>SQL_Injection</td>\n",
              "        <td>3</td>\n",
              "    </tr>\n",
              "    <tr>\n",
              "        <td>Ransomware</td>\n",
              "        <td>2</td>\n",
              "    </tr>\n",
              "    <tr>\n",
              "        <td>Electromagnetic_Pulse</td>\n",
              "        <td>1</td>\n",
              "    </tr>\n",
              "    <tr>\n",
              "        <td>Insider_Threat</td>\n",
              "        <td>1</td>\n",
              "    </tr>\n",
              "    <tr>\n",
              "        <td>Trojan_Horse</td>\n",
              "        <td>1</td>\n",
              "    </tr>\n",
              "</table>"
            ],
            "text/plain": [
              "[('SQL_Injection', 3),\n",
              " ('Ransomware', 2),\n",
              " ('Electromagnetic_Pulse', 1),\n",
              " ('Insider_Threat', 1),\n",
              " ('Trojan_Horse', 1)]"
            ]
          },
          "metadata": {
            "tags": []
          },
          "execution_count": 36
        }
      ]
    },
    {
      "cell_type": "markdown",
      "metadata": {
        "id": "ZcTXKuIFBKyK"
      },
      "source": [
        "#Why are these queries useful?\n",
        "\n",
        "Query #1: This query is useful because it tells us where most of the site traffic is directed. Additionally, an important facet of the site management is to make sure the breaches have up-to-date information; however, this is especially important with the breaches that attract the most attention. Identifying the most viewed breaches tells us where to ensure we have accurate information. The results of the query matched up with our expectations: an electromagnetic pulse would be the most fascinating security breach to read about!\n",
        "\n",
        "Query #2: This query is important because it tells us who the most active users of the website. It would be ideal to send surverys and questionnaires to these users, since they are more active users of the site, and more likely to respond. Knowing who views breaches the most is also helpful because we could send those people recuitment emails if more developers were needed (this is a long shot, but you never know). The results of this query were interesting, because John and Sarah Doe are the top 2 viewers of breaches. Are they married? Perhaps there is more to be discovered here.\n",
        "\n",
        "Query #3: This query is incredibly important because it gives us a snapshot of the most common techniques attackers have used to try and breach networks and databases. However, it is good to bear in mind that our site may not be an accurate source for finding the most common breach techniques. Depending on how much data is put in our database, this query may not give us a representative sample. Additionally, while defending against techniques that were common is very good, defending against the strategies currently being used a lot is arguably more important. The results of this query were unexpected, because it seems to say that SQL Injections threats are more common than Ransomware, which seems to contradict common knowledge."
      ]
    },
    {
      "cell_type": "markdown",
      "metadata": {
        "id": "QBKNboyp5pIG"
      },
      "source": [
        "#Master Plan\n",
        "\n",
        "Alright guys, here's what we need to do:\n",
        "\n",
        "*   Nothing! We're all done :)\n",
        "\n",
        "\n"
      ]
    },
    {
      "cell_type": "code",
      "metadata": {
        "id": "AhXl5GEiPsT-"
      },
      "source": [
        ""
      ],
      "execution_count": null,
      "outputs": []
    }
  ]
}