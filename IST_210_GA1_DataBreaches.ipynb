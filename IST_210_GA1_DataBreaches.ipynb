{
  "nbformat": 4,
  "nbformat_minor": 0,
  "metadata": {
    "colab": {
      "name": "IST 210_GA1_DataBreaches.ipynb",
      "provenance": [],
      "collapsed_sections": [],
      "toc_visible": true,
      "include_colab_link": true
    },
    "kernelspec": {
      "name": "python3",
      "display_name": "Python 3"
    }
  },
  "cells": [
    {
      "cell_type": "markdown",
      "metadata": {
        "id": "view-in-github",
        "colab_type": "text"
      },
      "source": [
        "<a href=\"https://colab.research.google.com/github/natenyahoo/IST210Stuff/blob/master/IST_210_GA1_DataBreaches.ipynb\" target=\"_parent\"><img src=\"https://colab.research.google.com/assets/colab-badge.svg\" alt=\"Open In Colab\"/></a>"
      ]
    },
    {
      "cell_type": "markdown",
      "metadata": {
        "id": "UblhAIGuGF27",
        "colab_type": "text"
      },
      "source": [
        "# Database Breaches!"
      ]
    },
    {
      "cell_type": "markdown",
      "metadata": {
        "id": "RlR0_Ol4GW3b",
        "colab_type": "text"
      },
      "source": [
        "### what is your idea?"
      ]
    },
    {
      "cell_type": "markdown",
      "metadata": {
        "id": "HU68Zv5MGY97",
        "colab_type": "text"
      },
      "source": [
        "-- Our idea is to create a data base that records past cybersecurity incidents for future study. We will collect information on data breaches. The database should be a convenient hub for users to access and contribute to records of database breaches."
      ]
    },
    {
      "cell_type": "markdown",
      "metadata": {
        "id": "45Q0PBrIGiIg",
        "colab_type": "text"
      },
      "source": [
        "### what makes it unique?"
      ]
    },
    {
      "cell_type": "markdown",
      "metadata": {
        "id": "8WOfTAuqGjoc",
        "colab_type": "text"
      },
      "source": [
        "-- This idea is unique because it is geared specifically towards data breaches and cybersecurity incidents. Typically, data breaches and cyber attacks may be grouped with other security issues; however, this data base aims to be solely focused on virtual security incidents."
      ]
    },
    {
      "cell_type": "markdown",
      "metadata": {
        "id": "dVrktWdXGl19",
        "colab_type": "text"
      },
      "source": [
        "### is this a brand-new product or business, or are you borrowing from another business?"
      ]
    },
    {
      "cell_type": "markdown",
      "metadata": {
        "id": "MmGY0leUGnaN",
        "colab_type": "text"
      },
      "source": [
        "-- This is a brand new product. It will be similar to a move database that lets users look up information about their favorite movie. However, in this case, the movies will all be data breaches and cyber-based attacks."
      ]
    },
    {
      "cell_type": "markdown",
      "metadata": {
        "id": "k3oJzVDPGnws",
        "colab_type": "text"
      },
      "source": [
        "### describe a typical business interaction or a day at your business."
      ]
    },
    {
      "cell_type": "markdown",
      "metadata": {
        "id": "GeEKl-lUG1x5",
        "colab_type": "text"
      },
      "source": [
        "-- First a user creates an account. They get added to the database. The user may then search for a past attack. The user looks up details about the attack, including resources used, who was attacking, etc. The user may upload information about a new incident or offer changes to a recorded incident to improve accuracy."
      ]
    },
    {
      "cell_type": "markdown",
      "metadata": {
        "id": "iUFoC5BuGpID",
        "colab_type": "text"
      },
      "source": [
        "### list your 5 entities/tables and for each, provide details about what data will be stored in the entities/tables."
      ]
    },
    {
      "cell_type": "markdown",
      "metadata": {
        "id": "AiZXrfSMGqZm",
        "colab_type": "text"
      },
      "source": [
        "1. User \n",
        "\n",
        "-- The user's attributes are user Id, email, and name. \n",
        "\n",
        "2. Data Breaches\n",
        "\n",
        "-- The data breaches' attributes are results, date, and type. \n",
        "\n",
        "3. Attackers\n",
        "\n",
        "-- The attackers' attributes are country of origin, attack method, and target. \n",
        "\n",
        "4. Network\n",
        "\n",
        "-- The network's attributes are IP address, size, and location. \n",
        "\n",
        "5. Defender\n",
        "\n",
        "-- The defenders' attributes are defense method, defender ID, and company."
      ]
    },
    {
      "cell_type": "markdown",
      "metadata": {
        "id": "h2mJWTewHLSn",
        "colab_type": "text"
      },
      "source": [
        "Draw IO Entity Relationship Diagram \n",
        "\n",
        "- save your ER Diagram in Draw.io as PNG and upload it to GitHub\n",
        "\n",
        "  - then add an image to your notebook"
      ]
    },
    {
      "cell_type": "markdown",
      "metadata": {
        "id": "k2QU15gLXACS",
        "colab_type": "text"
      },
      "source": [
        "![Screenshot of the ER Diagram](https://raw.githubusercontent.com/natenyahoo/IST210Stuff/master/DataBreachesERDiagram.PNG)"
      ]
    },
    {
      "cell_type": "markdown",
      "metadata": {
        "id": "WFQXwieoHiCe",
        "colab_type": "text"
      },
      "source": [
        "### provide a goal for your project "
      ]
    },
    {
      "cell_type": "markdown",
      "metadata": {
        "id": "cKmoiVHrHnHF",
        "colab_type": "text"
      },
      "source": [
        "-- The goal is to create a data base that will let us access past data breaches. We can learn from previous incidents by studying the events that led up to them, as well as the events triggered by them."
      ]
    },
    {
      "cell_type": "code",
      "metadata": {
        "id": "NCASBnBrHstv",
        "colab_type": "code",
        "colab": {}
      },
      "source": [
        ""
      ],
      "execution_count": null,
      "outputs": []
    }
  ]
}