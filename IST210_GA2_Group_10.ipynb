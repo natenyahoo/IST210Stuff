{
  "nbformat": 4,
  "nbformat_minor": 0,
  "metadata": {
    "colab": {
      "name": "IST210 - GA2 - Group 10.ipynb",
      "provenance": [],
      "collapsed_sections": [],
      "authorship_tag": "ABX9TyNg0Ze/BJqCMIqZMXUPSxSg",
      "include_colab_link": true
    },
    "kernelspec": {
      "name": "python3",
      "display_name": "Python 3"
    }
  },
  "cells": [
    {
      "cell_type": "markdown",
      "metadata": {
        "id": "view-in-github",
        "colab_type": "text"
      },
      "source": [
        "<a href=\"https://colab.research.google.com/github/natenyahoo/IST210Stuff/blob/master/IST210_GA2_Group_10.ipynb\" target=\"_parent\"><img src=\"https://colab.research.google.com/assets/colab-badge.svg\" alt=\"Open In Colab\"/></a>"
      ]
    },
    {
      "cell_type": "markdown",
      "metadata": {
        "id": "GiRpchMT1007"
      },
      "source": [
        "#Group Assignment 2 - Group 10"
      ]
    },
    {
      "cell_type": "markdown",
      "metadata": {
        "id": "setOsGti1zwk"
      },
      "source": [
        "![ER Diagram in 1st NF](https://raw.githubusercontent.com/natenyahoo/IST210Stuff/master/IST%20210%20-%20GA%202-2.png)"
      ]
    },
    {
      "cell_type": "markdown",
      "metadata": {
        "id": "0v6DA27N2zkw"
      },
      "source": [
        "For our project, we created an ER diagram detailing the relationships between the user and our database of Cyber Incidents. Our database can be viewed through a webpage, with links to certain incidents. These incidents will provide details such as the date, the result, and type of attack. Each incident will also have at least 1 attacker, 1 defender, and 1 network. However, there may be many players involved, hence the multitude of Many to Many relationships between attackers, networks, defenders, and breaches.\n",
        "\n",
        "All of this information can be accessed by the incident ID number that is assigned when a security incident is recorded in the database. The webpage will let multiple users view the same page at the same time. Due to the nature of a website that lets any number of people view a page (like wikipedia), there is a Many to Many relationship between the user and the breaches database. To address this relationship, a separate table had to be created that has the primary keys of the user and the breaches. This is usual practice to prevent repeating groups from occuring in one of the tuples. We followed similar practice for all other Many to Many relationships, always taking the primary keys from both tables to form the composite key of the new table.\n",
        "\n",
        "To assure proper linkage of the attackers, networks, and defenders to breaches, all of the aforementioned entities have an incident attribute, which is a foreign key linking to what ever incident they were involved in."
      ]
    },
    {
      "cell_type": "code",
      "metadata": {
        "id": "13f2ESgp2yNd"
      },
      "source": [
        ""
      ],
      "execution_count": null,
      "outputs": []
    }
  ]
}